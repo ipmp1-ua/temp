{
 "cells": [
  {
   "cell_type": "code",
   "execution_count": 1,
   "id": "b707a5d9",
   "metadata": {},
   "outputs": [
    {
     "name": "stderr",
     "output_type": "stream",
     "text": [
      "/opt/conda/lib/python3.11/site-packages/tqdm/auto.py:21: TqdmWarning: IProgress not found. Please update jupyter and ipywidgets. See https://ipywidgets.readthedocs.io/en/stable/user_install.html\n",
      "  from .autonotebook import tqdm as notebook_tqdm\n"
     ]
    }
   ],
   "source": [
    "import fire\n",
    "import json\n",
    "import torch\n",
    "from data import GrandStaffDataset\n",
    "from smt_trainer import SMT_Trainer\n",
    "\n",
    "from ExperimentConfig import experiment_config_from_dict\n",
    "from lightning.pytorch import Trainer\n",
    "from lightning.pytorch.callbacks import ModelCheckpoint\n",
    "from lightning.pytorch.loggers import WandbLogger\n",
    "from lightning.pytorch.callbacks.early_stopping import EarlyStopping\n",
    "import torch\n",
    "import cv2\n",
    "from data_augmentation.data_augmentation import convert_img_to_tensor\n",
    "from smt_model import SMTModelForCausalLM\n",
    "import os\n",
    "from weight_transfer import map_lm_to_smt\n"
   ]
  },
  {
   "cell_type": "code",
   "execution_count": null,
   "id": "86c989c5",
   "metadata": {},
   "outputs": [
    {
     "ename": "AttributeError",
     "evalue": "'Data' object has no attribute 'only_test'",
     "output_type": "error",
     "traceback": [
      "\u001b[0;31m---------------------------------------------------------------------------\u001b[0m",
      "\u001b[0;31mAttributeError\u001b[0m                            Traceback (most recent call last)",
      "Cell \u001b[0;32mIn[4], line 4\u001b[0m\n\u001b[1;32m      1\u001b[0m \u001b[38;5;28;01mwith\u001b[39;00m \u001b[38;5;28mopen\u001b[39m(\u001b[38;5;124m\"\u001b[39m\u001b[38;5;124mconfig/GrandStaff/grandstaff.json\u001b[39m\u001b[38;5;124m\"\u001b[39m, \u001b[38;5;124m\"\u001b[39m\u001b[38;5;124mr\u001b[39m\u001b[38;5;124m\"\u001b[39m) \u001b[38;5;28;01mas\u001b[39;00m f:\n\u001b[1;32m      2\u001b[0m   config \u001b[38;5;241m=\u001b[39m experiment_config_from_dict(json\u001b[38;5;241m.\u001b[39mload(f))\n\u001b[0;32m----> 4\u001b[0m datamodule \u001b[38;5;241m=\u001b[39m \u001b[43mGrandStaffDataset\u001b[49m\u001b[43m(\u001b[49m\u001b[43mconfig\u001b[49m\u001b[38;5;241;43m=\u001b[39;49m\u001b[43mconfig\u001b[49m\u001b[38;5;241;43m.\u001b[39;49m\u001b[43mdata\u001b[49m\u001b[43m)\u001b[49m\n\u001b[1;32m      6\u001b[0m max_height, max_width \u001b[38;5;241m=\u001b[39m datamodule\u001b[38;5;241m.\u001b[39mtrain_set\u001b[38;5;241m.\u001b[39mget_max_hw()\n\u001b[1;32m      7\u001b[0m max_len \u001b[38;5;241m=\u001b[39m datamodule\u001b[38;5;241m.\u001b[39mtrain_set\u001b[38;5;241m.\u001b[39mget_max_seqlen()\n",
      "File \u001b[0;32m/workspace/data.py:226\u001b[0m, in \u001b[0;36mGrandStaffDataset.__init__\u001b[0;34m(self, config)\u001b[0m\n\u001b[1;32m    224\u001b[0m \u001b[38;5;28mself\u001b[39m\u001b[38;5;241m.\u001b[39mbatch_size \u001b[38;5;241m=\u001b[39m config\u001b[38;5;241m.\u001b[39mbatch_size\n\u001b[1;32m    225\u001b[0m \u001b[38;5;28mself\u001b[39m\u001b[38;5;241m.\u001b[39mnum_workers \u001b[38;5;241m=\u001b[39m config\u001b[38;5;241m.\u001b[39mnum_workers\n\u001b[0;32m--> 226\u001b[0m \u001b[38;5;28;01mif\u001b[39;00m \u001b[38;5;129;01mnot\u001b[39;00m \u001b[43mconfig\u001b[49m\u001b[38;5;241;43m.\u001b[39;49m\u001b[43monly_test\u001b[49m:\n\u001b[1;32m    227\u001b[0m   \u001b[38;5;28mself\u001b[39m\u001b[38;5;241m.\u001b[39mtrain_set \u001b[38;5;241m=\u001b[39m GrandStaffSingleSystem(data_path\u001b[38;5;241m=\u001b[39m\u001b[38;5;28mself\u001b[39m\u001b[38;5;241m.\u001b[39mdata_path, split\u001b[38;5;241m=\u001b[39m\u001b[38;5;124m\"\u001b[39m\u001b[38;5;124mtrain\u001b[39m\u001b[38;5;124m\"\u001b[39m, augment\u001b[38;5;241m=\u001b[39m\u001b[38;5;28;01mTrue\u001b[39;00m)\n\u001b[1;32m    228\u001b[0m   \u001b[38;5;28mself\u001b[39m\u001b[38;5;241m.\u001b[39mval_set \u001b[38;5;241m=\u001b[39m GrandStaffSingleSystem(data_path\u001b[38;5;241m=\u001b[39m\u001b[38;5;28mself\u001b[39m\u001b[38;5;241m.\u001b[39mdata_path, split\u001b[38;5;241m=\u001b[39m\u001b[38;5;124m\"\u001b[39m\u001b[38;5;124mval\u001b[39m\u001b[38;5;124m\"\u001b[39m,)\n",
      "\u001b[0;31mAttributeError\u001b[0m: 'Data' object has no attribute 'only_test'"
     ]
    }
   ],
   "source": [
    "\n",
    "with open(\"config/GrandStaff/grandstaff.json\", \"r\") as f:\n",
    "  config = experiment_config_from_dict(json.load(f))\n",
    "config.data.only_test = False\n",
    "datamodule = GrandStaffDataset(config=config.data)\n",
    "\n",
    "max_height, max_width = datamodule.train_set.get_max_hw()\n",
    "max_len = datamodule.train_set.get_max_seqlen()\n",
    "\n",
    "model_wrapper = SMT_Trainer(maxh=int(max_height), maxw=int(max_width), maxlen=int(max_len), \n",
    "                          out_categories=len(datamodule.train_set.w2i), padding_token=datamodule.train_set.w2i[\"<pad>\"], \n",
    "                          in_channels=1, w2i=datamodule.train_set.w2i, i2w=datamodule.train_set.i2w, \n",
    "                          d_model=256, dim_ff=256, num_dec_layers=8)"
   ]
  },
  {
   "cell_type": "code",
   "execution_count": null,
   "id": "2296b25f",
   "metadata": {},
   "outputs": [],
   "source": [
    "smt = SMT_Trainer.load_from_checkpoint(\"/workspace/weights/GrandStaff/GrandStaff_SMT_nianga.ckpt\")"
   ]
  },
  {
   "cell_type": "code",
   "execution_count": null,
   "id": "6fc1a61d",
   "metadata": {},
   "outputs": [],
   "source": [
    "device = \"cuda\" if torch.cuda.is_available() else \"cpu\"\n",
    " \n",
    "map_lm_to_smt(smt)\n",
    "folder = \"data/\"\n",
    "file = \"sample.png\"\n",
    "image = cv2.imread(os.path.join(folder, file))\n",
    "\n",
    "\n",
    "predictions, _ = smt.predict(convert_img_to_tensor(image).unsqueeze(0).to(device), \n",
    "                               convert_to_str=True)\n",
    "\n",
    "\n",
    "#copy output to clipboard\n",
    "text = \"\".join(predictions).replace('<b>', '\\n').replace('<s>', ' ').replace('<t>', '\\t').replace('**ekern_1.0','**kern')\n",
    "\n",
    "\n",
    "print(text)\n"
   ]
  }
 ],
 "metadata": {
  "kernelspec": {
   "display_name": "base",
   "language": "python",
   "name": "python3"
  },
  "language_info": {
   "codemirror_mode": {
    "name": "ipython",
    "version": 3
   },
   "file_extension": ".py",
   "mimetype": "text/x-python",
   "name": "python",
   "nbconvert_exporter": "python",
   "pygments_lexer": "ipython3",
   "version": "3.11.11"
  }
 },
 "nbformat": 4,
 "nbformat_minor": 5
}
